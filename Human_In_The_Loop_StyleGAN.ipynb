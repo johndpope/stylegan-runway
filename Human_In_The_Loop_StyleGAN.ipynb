{
 "cells": [
  {
   "cell_type": "code",
   "execution_count": 1,
   "metadata": {},
   "outputs": [],
   "source": [
    "import os, re, sys\n",
    "import numpy as np\n",
    "import PIL.Image\n",
    "import dnnlib\n",
    "import dnnlib.tflib as tflib\n",
    "\n",
    "#%matplotlib widget\n",
    "%matplotlib inline\n",
    "from IPython.display import display\n",
    "import ipywidgets as widgets\n",
    "import matplotlib.pyplot as plt\n",
    "\n",
    "import pretrained_networks"
   ]
  },
  {
   "cell_type": "code",
   "execution_count": 2,
   "metadata": {},
   "outputs": [
    {
     "name": "stdout",
     "output_type": "stream",
     "text": [
      "Setting up TensorFlow plugin \"fused_bias_act.cu\": Preprocessing... Loading... Done.\n",
      "Setting up TensorFlow plugin \"upfirdn_2d.cu\": Preprocessing... Loading... Done.\n"
     ]
    }
   ],
   "source": [
    "network_pkl = '/home/romain/win_desk/stylegan2/results/00098-stylegan2-feuilles1k-1gpu-config-e/network-snapshot-000600.pkl'\n",
    "G, _D, Gs = pretrained_networks.load_networks(network_pkl)\n",
    "\n",
    "truncation_psi = 1.0\n",
    "w, h = 256, 256\n",
    "seed = 45\n",
    "rand = np.random.RandomState(seed)"
   ]
  },
  {
   "cell_type": "code",
   "execution_count": 3,
   "metadata": {},
   "outputs": [],
   "source": [
    "Gs_kwargs = dnnlib.EasyDict()\n",
    "Gs_kwargs.output_transform = dict(func=tflib.convert_images_to_uint8, nchw_to_nhwc=True)\n",
    "Gs_kwargs.randomize_noise = False\n",
    "if truncation_psi is not None:\n",
    "    Gs_kwargs.truncation_psi = truncation_psi\n"
   ]
  },
  {
   "cell_type": "code",
   "execution_count": 4,
   "metadata": {},
   "outputs": [
    {
     "data": {
      "image/png": "[encoded data removed]",
      "text/plain": [
       "<Figure size 475.92x749.52 with 1 Axes>"
      ]
     },
     "metadata": {
      "needs_background": "light"
     },
     "output_type": "display_data"
    },
    {
     "data": {
      "application/vnd.jupyter.widget-view+json": {
       "model_id": "52d3153ad55149fa9c8b51d4fef0e16b",
       "version_major": 2,
       "version_minor": 0
      },
      "text/plain": [
       "interactive(children=(IntSlider(value=8, description='c', max=16), FloatSlider(value=0.5, description='value',…"
      ]
     },
     "metadata": {},
     "output_type": "display_data"
    }
   ],
   "source": [
    "fig, ax = plt.subplots(figsize=(6.61, 10.41))\n",
    "\n",
    "latent = np.array([rand.randn(Gs.input_shape[1])])\n",
    "dlatent = Gs.components.mapping.run(latent, None) # [seed, layer, component]\n",
    "images = Gs.components.synthesis.run(dlatent, **Gs_kwargs)\n",
    "n_styles = dlatent.shape[1]\n",
    "style_mix = np.ones(n_styles)\n",
    "\n",
    "def next_image(reset=False):\n",
    "    global style_mix\n",
    "    global dlatent\n",
    "    global latent\n",
    "    \n",
    "    if reset:\n",
    "        latent = np.array([rand.randn(Gs.input_shape[1])])\n",
    "        dlatent = Gs.components.mapping.run(latent, None) # [seed, layer, component]\n",
    "        print('reset the image')\n",
    "\n",
    "    mixed_dlatent = dlatent.copy()\n",
    "    n_styles = dlatent.shape[1]\n",
    "    for i in range(n_styles):\n",
    "        mixed_dlatent[0][i] *= style_mix[i]\n",
    "\n",
    "    images = Gs.components.synthesis.run(mixed_dlatent, **Gs_kwargs)\n",
    "    return images\n",
    "\n",
    "@widgets.interact(c=(0, 16, 1), value=(0.0, 1.0, 0.001))\n",
    "def update(c, value, reset=False):\n",
    "    style_mix[c] = 1 - value\n",
    "    print('update', c, value)\n",
    "\n",
    "    images = next_image(reset)\n",
    "    [im.remove() for im in ax.images]\n",
    "    ax.imshow(images[0])\n",
    "    display(fig)"
   ]
  },
  {
   "cell_type": "code",
   "execution_count": 1,
   "metadata": {},
   "outputs": [
    {
     "data": {
      "image/png": "[encoded data removed]",
      "text/plain": [
       "<Figure size 432x288 with 1 Axes>"
      ]
     },
     "metadata": {
      "needs_background": "light"
     },
     "output_type": "display_data"
    },
    {
     "data": {
      "application/vnd.jupyter.widget-view+json": {
       "model_id": "d106a456f2f64ecc91ac2d91acfb0ac4",
       "version_major": 2,
       "version_minor": 0
      },
      "text/plain": [
       "interactive(children=(IntSlider(value=1, description='w', max=10), FloatSlider(value=1.0, description='amp', m…"
      ]
     },
     "metadata": {},
     "output_type": "display_data"
    }
   ],
   "source": [
    "#%matplotlib widget\n",
    "%matplotlib inline\n",
    "from IPython.display import display\n",
    "import ipywidgets as widgets\n",
    "import matplotlib.pyplot as plt\n",
    "import numpy as np\n",
    "\n",
    "# set up plot\n",
    "fig, ax = plt.subplots(figsize=(6, 4))\n",
    "ax.set_ylim([-4, 4])\n",
    "ax.grid(True)\n",
    " \n",
    "# generate x values\n",
    "x = np.linspace(0, 2 * np.pi, 100)\n",
    "\n",
    "def my_sine(x, w, amp, phi):\n",
    "    \"\"\"\n",
    "    Return a sine for x with angular frequeny w and amplitude amp.\n",
    "    \"\"\"\n",
    "    return amp*np.sin(w * (x-phi))\n",
    "\n",
    "@widgets.interact(w=(0, 10, 1), amp=(0, 4, .1), phi=(0, 2*np.pi+0.01, 0.01))\n",
    "def update(w = 1.0, amp=1, phi=0):\n",
    "    \"\"\"Remove old lines from plot and plot new one\"\"\"\n",
    "    [l.remove() for l in ax.lines]\n",
    "    ax.plot(x, my_sine(x, w, amp, phi), color='C0')\n",
    "    display(fig)\n",
    "    "
   ]
  }
 ],
 "metadata": {
  "kernelspec": {
   "display_name": "Python 3",
   "language": "python",
   "name": "python3"
  },
  "language_info": {
   "codemirror_mode": {
    "name": "ipython",
    "version": 3
   },
   "file_extension": ".py",
   "mimetype": "text/x-python",
   "name": "python",
   "nbconvert_exporter": "python",
   "pygments_lexer": "ipython3",
   "version": "3.6.10"
  }
 },
 "nbformat": 4,
 "nbformat_minor": 4
}
